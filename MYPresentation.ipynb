{
 "cells": [
  {
   "cell_type": "code",
   "execution_count": 2,
   "metadata": {},
   "outputs": [],
   "source": [
    "#Load Packages\n",
    "import numpy as np\n",
    "import pandas as pd\n",
    "import time\n",
    "\n",
    "#Load Custom Modules\n",
    "from astropy.io import fits\n",
    "from client import Client\n",
    "from urllib.request import urlopen\n",
    "from scipy.optimize import minimize\n",
    "from optimisation import objective"
   ]
  },
  {
   "cell_type": "code",
   "execution_count": 223,
   "metadata": {},
   "outputs": [
    {
     "name": "stdout",
     "output_type": "stream",
     "text": [
      "Python: {'apikey': 'zffjomkzkuuihoyy'}\n",
      "Sending json: {\"apikey\": \"zffjomkzkuuihoyy\"}\n",
      "Sending to URL: https://nova.astrometry.net/api/login\n",
      "Sending form data: {'request-json': '{\"apikey\": \"zffjomkzkuuihoyy\"}'}\n",
      "Sending data: b'request-json=%7B%22apikey%22%3A+%22zffjomkzkuuihoyy%22%7D'\n",
      "Got reply HTTP status code: 200\n",
      "Got json: b'{\"status\": \"success\", \"message\": \"authenticated user: harrychung2000@yahoo.com\", \"session\": \"u3iu2jrhtg6pi3vifcvhaeq3fnc4f7pn\"}'\n",
      "Got result: {'status': 'success', 'message': 'authenticated user: harrychung2000@yahoo.com', 'session': 'u3iu2jrhtg6pi3vifcvhaeq3fnc4f7pn'}\n",
      "Got status: success\n",
      "Got session: u3iu2jrhtg6pi3vifcvhaeq3fnc4f7pn\n",
      "Python: {'session': 'u3iu2jrhtg6pi3vifcvhaeq3fnc4f7pn'}\n",
      "Sending json: {\"session\": \"u3iu2jrhtg6pi3vifcvhaeq3fnc4f7pn\"}\n",
      "Sending to URL: https://nova.astrometry.net/api/submissions/7734920\n",
      "Sending form data: {'request-json': '{\"session\": \"u3iu2jrhtg6pi3vifcvhaeq3fnc4f7pn\"}'}\n",
      "Sending data: b'request-json=%7B%22session%22%3A+%22u3iu2jrhtg6pi3vifcvhaeq3fnc4f7pn%22%7D'\n",
      "Got reply HTTP status code: 200\n",
      "Got json: b'{\"user\": 42741, \"processing_started\": \"2023-05-18 12:13:44.195385\", \"processing_finished\": \"2023-05-18 12:13:44.304132\", \"user_images\": [7901822], \"images\": [18513057], \"jobs\": [8472734], \"job_calibrations\": []}'\n",
      "Got result: {'user': 42741, 'processing_started': '2023-05-18 12:13:44.195385', 'processing_finished': '2023-05-18 12:13:44.304132', 'user_images': [7901822], 'images': [18513057], 'jobs': [8472734], 'job_calibrations': []}\n",
      "Got status: None\n"
     ]
    },
    {
     "ename": "HTTPError",
     "evalue": "HTTP Error 500: Internal Server Error",
     "output_type": "error",
     "traceback": [
      "\u001b[0;31m---------------------------------------------------------------------------\u001b[0m",
      "\u001b[0;31mHTTPError\u001b[0m                                 Traceback (most recent call last)",
      "Cell \u001b[0;32mIn[223], line 6\u001b[0m\n\u001b[1;32m      3\u001b[0m \u001b[39m#star_dectection = client.upload('data/MY_database/Image1_crt.jpeg')\u001b[39;00m\n\u001b[1;32m      4\u001b[0m \u001b[39m#time.sleep(300)\u001b[39;00m\n\u001b[1;32m      5\u001b[0m sub_stats \u001b[39m=\u001b[39m client\u001b[39m.\u001b[39msub_status(\u001b[39m7734920\u001b[39m, justdict\u001b[39m=\u001b[39m\u001b[39mTrue\u001b[39;00m)\n\u001b[0;32m----> 6\u001b[0m f \u001b[39m=\u001b[39m urlopen(client\u001b[39m.\u001b[39;49mapiurl\u001b[39m.\u001b[39;49mreplace(\u001b[39m'\u001b[39;49m\u001b[39m/api\u001b[39;49m\u001b[39m'\u001b[39;49m, \u001b[39m'\u001b[39;49m\u001b[39m/corr_file/\u001b[39;49m\u001b[39m%i\u001b[39;49;00m\u001b[39m'\u001b[39;49m \u001b[39m%\u001b[39;49m\u001b[39mint\u001b[39;49m(sub_stats[\u001b[39m'\u001b[39;49m\u001b[39mjobs\u001b[39;49m\u001b[39m'\u001b[39;49m][\u001b[39m0\u001b[39;49m])))\n\u001b[1;32m      7\u001b[0m text \u001b[39m=\u001b[39m f\u001b[39m.\u001b[39mread()\n\u001b[1;32m      8\u001b[0m \u001b[39m#print(text)\u001b[39;00m\n",
      "File \u001b[0;32m~/anaconda3/lib/python3.10/urllib/request.py:216\u001b[0m, in \u001b[0;36murlopen\u001b[0;34m(url, data, timeout, cafile, capath, cadefault, context)\u001b[0m\n\u001b[1;32m    214\u001b[0m \u001b[39melse\u001b[39;00m:\n\u001b[1;32m    215\u001b[0m     opener \u001b[39m=\u001b[39m _opener\n\u001b[0;32m--> 216\u001b[0m \u001b[39mreturn\u001b[39;00m opener\u001b[39m.\u001b[39;49mopen(url, data, timeout)\n",
      "File \u001b[0;32m~/anaconda3/lib/python3.10/urllib/request.py:525\u001b[0m, in \u001b[0;36mOpenerDirector.open\u001b[0;34m(self, fullurl, data, timeout)\u001b[0m\n\u001b[1;32m    523\u001b[0m \u001b[39mfor\u001b[39;00m processor \u001b[39min\u001b[39;00m \u001b[39mself\u001b[39m\u001b[39m.\u001b[39mprocess_response\u001b[39m.\u001b[39mget(protocol, []):\n\u001b[1;32m    524\u001b[0m     meth \u001b[39m=\u001b[39m \u001b[39mgetattr\u001b[39m(processor, meth_name)\n\u001b[0;32m--> 525\u001b[0m     response \u001b[39m=\u001b[39m meth(req, response)\n\u001b[1;32m    527\u001b[0m \u001b[39mreturn\u001b[39;00m response\n",
      "File \u001b[0;32m~/anaconda3/lib/python3.10/urllib/request.py:634\u001b[0m, in \u001b[0;36mHTTPErrorProcessor.http_response\u001b[0;34m(self, request, response)\u001b[0m\n\u001b[1;32m    631\u001b[0m \u001b[39m# According to RFC 2616, \"2xx\" code indicates that the client's\u001b[39;00m\n\u001b[1;32m    632\u001b[0m \u001b[39m# request was successfully received, understood, and accepted.\u001b[39;00m\n\u001b[1;32m    633\u001b[0m \u001b[39mif\u001b[39;00m \u001b[39mnot\u001b[39;00m (\u001b[39m200\u001b[39m \u001b[39m<\u001b[39m\u001b[39m=\u001b[39m code \u001b[39m<\u001b[39m \u001b[39m300\u001b[39m):\n\u001b[0;32m--> 634\u001b[0m     response \u001b[39m=\u001b[39m \u001b[39mself\u001b[39;49m\u001b[39m.\u001b[39;49mparent\u001b[39m.\u001b[39;49merror(\n\u001b[1;32m    635\u001b[0m         \u001b[39m'\u001b[39;49m\u001b[39mhttp\u001b[39;49m\u001b[39m'\u001b[39;49m, request, response, code, msg, hdrs)\n\u001b[1;32m    637\u001b[0m \u001b[39mreturn\u001b[39;00m response\n",
      "File \u001b[0;32m~/anaconda3/lib/python3.10/urllib/request.py:563\u001b[0m, in \u001b[0;36mOpenerDirector.error\u001b[0;34m(self, proto, *args)\u001b[0m\n\u001b[1;32m    561\u001b[0m \u001b[39mif\u001b[39;00m http_err:\n\u001b[1;32m    562\u001b[0m     args \u001b[39m=\u001b[39m (\u001b[39mdict\u001b[39m, \u001b[39m'\u001b[39m\u001b[39mdefault\u001b[39m\u001b[39m'\u001b[39m, \u001b[39m'\u001b[39m\u001b[39mhttp_error_default\u001b[39m\u001b[39m'\u001b[39m) \u001b[39m+\u001b[39m orig_args\n\u001b[0;32m--> 563\u001b[0m     \u001b[39mreturn\u001b[39;00m \u001b[39mself\u001b[39;49m\u001b[39m.\u001b[39;49m_call_chain(\u001b[39m*\u001b[39;49margs)\n",
      "File \u001b[0;32m~/anaconda3/lib/python3.10/urllib/request.py:496\u001b[0m, in \u001b[0;36mOpenerDirector._call_chain\u001b[0;34m(self, chain, kind, meth_name, *args)\u001b[0m\n\u001b[1;32m    494\u001b[0m \u001b[39mfor\u001b[39;00m handler \u001b[39min\u001b[39;00m handlers:\n\u001b[1;32m    495\u001b[0m     func \u001b[39m=\u001b[39m \u001b[39mgetattr\u001b[39m(handler, meth_name)\n\u001b[0;32m--> 496\u001b[0m     result \u001b[39m=\u001b[39m func(\u001b[39m*\u001b[39;49margs)\n\u001b[1;32m    497\u001b[0m     \u001b[39mif\u001b[39;00m result \u001b[39mis\u001b[39;00m \u001b[39mnot\u001b[39;00m \u001b[39mNone\u001b[39;00m:\n\u001b[1;32m    498\u001b[0m         \u001b[39mreturn\u001b[39;00m result\n",
      "File \u001b[0;32m~/anaconda3/lib/python3.10/urllib/request.py:643\u001b[0m, in \u001b[0;36mHTTPDefaultErrorHandler.http_error_default\u001b[0;34m(self, req, fp, code, msg, hdrs)\u001b[0m\n\u001b[1;32m    642\u001b[0m \u001b[39mdef\u001b[39;00m \u001b[39mhttp_error_default\u001b[39m(\u001b[39mself\u001b[39m, req, fp, code, msg, hdrs):\n\u001b[0;32m--> 643\u001b[0m     \u001b[39mraise\u001b[39;00m HTTPError(req\u001b[39m.\u001b[39mfull_url, code, msg, hdrs, fp)\n",
      "\u001b[0;31mHTTPError\u001b[0m: HTTP Error 500: Internal Server Error"
     ]
    }
   ],
   "source": [
    "client = Client()\n",
    "client.login('zffjomkzkuuihoyy')\n",
    "star_dectection = client.upload('data/MY_database/Image1_crt.jpeg')\n",
    "time.sleep(300)\n",
    "sub_stats = client.sub_status(7734920, justdict=True)\n",
    "f = urlopen(client.apiurl.replace('/api', '/corr_file/%i' %int(sub_stats['jobs'][0])))\n",
    "text = f.read()\n",
    "#print(text)\n",
    "with open('data/MY_database/corr_Images1.fits', 'wb') as file:\n",
    "    file.write(text)\n",
    "table_correspondence = fits.open('corr_Images1.fits')\n",
    "print(repr(table_correspondence[1].header))\n",
    "print(table_correspondence[1].data)\n"
   ]
  },
  {
   "cell_type": "code",
   "execution_count": 231,
   "metadata": {},
   "outputs": [
    {
     "name": "stdout",
     "output_type": "stream",
     "text": [
      "table_correspondence: \n",
      "XTENSION= 'BINTABLE' / FITS Binary Table Extension                              \n",
      "BITPIX  =                    8 / 8-bits character format                        \n",
      "NAXIS   =                    2 / Tables are 2-D char. array                     \n",
      "NAXIS1  =                   88 / Bytes in row                                   \n",
      "NAXIS2  =                   28 / no comment                                     \n",
      "PCOUNT  =                    0 / Parameter count always 0                       \n",
      "GCOUNT  =                    1 / Group count always 1                           \n",
      "TFIELDS =                   13 / No. of col in table                            \n",
      "TFORM1  = '1D      ' / Format of field                                          \n",
      "TTYPE1  = 'field_x ' / Field label                                              \n",
      "TUNIT1  = 'pixels  ' / Physical unit of field                                   \n",
      "TFORM2  = '1D      ' / Format of field                                          \n",
      "TTYPE2  = 'field_y ' / Field label                                              \n",
      "TUNIT2  = 'pixels  ' / Physical unit of field                                   \n",
      "TFORM3  = '1D      ' / Format of field                                          \n",
      "TTYPE3  = 'field_ra' / Field label                                              \n",
      "TUNIT3  = 'degrees ' / Physical unit of field                                   \n",
      "TFORM4  = '1D      ' / Format of field                                          \n",
      "TTYPE4  = 'field_dec' / Field label                                             \n",
      "TUNIT4  = 'degrees ' / Physical unit of field                                   \n",
      "TFORM5  = '1D      ' / Format of field                                          \n",
      "TTYPE5  = 'index_x ' / Field label                                              \n",
      "TUNIT5  = 'pixels  ' / Physical unit of field                                   \n",
      "TFORM6  = '1D      ' / Format of field                                          \n",
      "TTYPE6  = 'index_y ' / Field label                                              \n",
      "TUNIT6  = 'pixels  ' / Physical unit of field                                   \n",
      "TFORM7  = '1D      ' / Format of field                                          \n",
      "TTYPE7  = 'index_ra' / Field label                                              \n",
      "TUNIT7  = 'degrees ' / Physical unit of field                                   \n",
      "TFORM8  = '1D      ' / Format of field                                          \n",
      "TTYPE8  = 'index_dec' / Field label                                             \n",
      "TUNIT8  = 'degrees ' / Physical unit of field                                   \n",
      "TFORM9  = '1J      ' / Format of field                                          \n",
      "TTYPE9  = 'index_id' / Field label                                              \n",
      "TUNIT9  = 'none    ' / Physical unit of field                                   \n",
      "TFORM10 = '1J      ' / Format of field                                          \n",
      "TTYPE10 = 'field_id' / Field label                                              \n",
      "TUNIT10 = 'none    ' / Physical unit of field                                   \n",
      "TFORM11 = '1D      ' / Format of field                                          \n",
      "TTYPE11 = 'match_weight' / Field label                                          \n",
      "TUNIT11 = 'none    ' / Physical unit of field                                   \n",
      "TFORM12 = '1E      ' / Format of field                                          \n",
      "TTYPE12 = 'FLUX    ' / Field label                                              \n",
      "TFORM13 = '1E      ' / Format of field                                          \n",
      "TTYPE13 = 'BACKGROUND' / Field label                                            \n",
      "ORIGIN  = 'ESO-QFITS' / Written by QFITS                                        \n",
      "DATE    = '2023-04-05T07:34:05' / [UTC] Date of writing                         \n",
      "[(381.35281372, 131.24958801, 224.66363376, -43.1318843 , 381.41602707, 131.45046429, 224.63313417, -43.1338703 ,  16,  3, 0.94647028, 68.31692  , 0.23339081)\n",
      " (269.64349365, 223.2141571 , 207.41108897, -41.66734482, 269.34214602, 222.96414243, 207.37623391, -41.68765831, 559,  4, 0.84043147, 55.61222  , 0.7545395 )\n",
      " (468.29156494, 225.15115356, 225.75054187, -32.6147302 , 468.52355887, 224.73100328, 225.74703806, -32.64324695, 283,  5, 0.72164663, 37.13871  , 0.81616974)\n",
      " (251.31077576, 163.09805298, 208.82679669, -47.40287932, 252.16119908, 163.45424693, 208.8851454 , -47.28826633, 558, 10, 0.85427757, 86.7874   , 0.37422943)\n",
      " (459.40917969,  92.59986877, 233.84463501, -41.23837621, 459.78054334,  94.06180859, 233.7850825 , -41.1666789 , 197, 11, 0.73858701, 56.426464 , 0.1115799 )\n",
      " (283.67901611, 210.94622803, 209.63395669, -42.05811055, 283.08687736, 210.61062133, 209.56784805, -42.10070693, 560, 12, 0.88185174, 43.25264  , 0.6701813 )\n",
      " (387.73236084, 201.65434265, 220.51333998, -37.92125427, 388.89426369, 203.09925533, 220.4900472 , -37.79342723,  18, 14, 0.88770516, 26.413105 , 0.61764336)\n",
      " (195.38511658, 111.98542786, 204.81245046, -54.11357778, 198.87914538, 117.00274616, 204.97196962, -53.46636268,   0, 18, 0.52124441, 81.87565  , 0.17378235)\n",
      " (439.24807739, 119.76955414, 230.3886099 , -40.72034534, 439.82581455, 120.95750277, 230.34306668, -40.64746   , 198, 20, 0.81662681, 51.213184 , 0.18408585)\n",
      " (302.33068848, 211.90927124, 211.56227834, -41.14699403, 301.97261034, 211.70124041, 211.51160277, -41.1795825 ,  71, 23, 0.90819778, 18.014553 , 0.67476463)\n",
      " (325.60415649, 113.50556183, 220.5169195 , -47.41788776, 325.64020471, 113.69627404, 220.48239102, -47.38814127,   3, 27, 0.94802423, 75.497696 , 0.17684174)\n",
      " (389.39651489, 139.50865173, 224.80909114, -42.1408383 , 389.86043171, 140.02495101, 224.79040918, -42.10414445,  33, 29, 0.93739982, 40.519207 , 0.26494217)\n",
      " (348.61245728, 169.62976074, 218.929989  , -42.14988046, 348.48846881, 169.75641149, 218.87688164, -42.15774562,   1, 36, 0.97879748, 70.56444  , 0.41235352)\n",
      " (409.85964966,  82.80756378, 230.67773981, -44.65401986, 409.64995974,  82.86319387, 230.67036472, -44.6895728 , 234, 38, 0.8367179 , 31.991283 , 0.10086441)\n",
      " (342.19458008, 209.11154175, 215.76974709, -39.53072752, 342.57761064, 209.37017862, 215.7594036 , -39.51176943,  20, 41, 0.93584174, 16.19031  , 0.6688709 )\n",
      " (297.76669312, 151.72132874, 214.86525451, -46.05736968, 297.7329958 , 151.43444924, 214.8509661 , -46.0580839 ,   6, 44, 0.94980698, 40.639053 , 0.32001114)\n",
      " (317.67156982, 305.94885254, 207.94428352, -33.05824154, 318.4564419 , 306.92308092, 207.95927148, -32.99461643,  66, 48, 0.69583523, 12.828356 , 1.6361542 )\n",
      " (269.91448975, 184.27629089, 209.69209934, -44.83206848, 269.91502834, 184.27479559, 209.66987443, -44.80353417,  54, 52, 0.89079139, 33.768303 , 0.48482513)\n",
      " (305.96871948,  99.47602844, 219.45830558, -49.50503438, 306.49776826,  99.75998384, 219.47187499, -49.42575918,   9, 61, 0.90870816, 19.40716  , 0.14178848)\n",
      " (382.79904175,  97.58800507, 227.23568995, -45.28268718, 382.81432267,  97.87278266, 227.21095529, -45.2797947 ,  72, 62, 0.90188474, 15.203935 , 0.13041306)\n",
      " (472.5774231 , 149.87477112, 230.89003507, -37.12548122, 474.43478452, 153.08214056, 230.78901083, -36.85843749, 270, 72, 0.68232734, 10.976648 , 0.3016777 )\n",
      " (291.65985107,  95.4012146 , 218.16772731, -50.58848376, 292.27640824,  96.19354945, 218.15451112, -50.4571236 ,  21, 75, 0.87982156, 14.974188 , 0.1339159 )\n",
      " (439.80050659,  30.66748047, 236.97350043, -45.89355333, 447.70926985,  31.52670874, 237.56784307, -45.40163444, 454, 78, 0.39625099, 10.235507 , 0.05402279)\n",
      " (314.14752197, 152.72988892, 216.55900004, -45.15152998, 313.69705382, 151.93456961, 216.53430805, -45.22139083,  36, 82, 0.96207848, 12.0476885, 0.32966423)\n",
      " (428.91986084,  59.3903923 , 233.96722958, -44.93072399, 428.70866406,  59.69435891, 233.97193055, -44.95833778, 239, 85, 0.75832401,  9.871873 , 0.07389164)\n",
      " (231.98291016,  32.24901199, 215.72762453, -58.43779256, 231.10352928,  31.4971331 , 215.65465861, -58.45915639,  56, 93, 0.66031674,  5.1299753, 0.06686115)\n",
      " (309.96713257, 280.64935303, 208.49993423, -35.35778685, 310.21840329, 281.45713415, 208.46775723, -35.31419528,  87, 95, 0.76061097,  8.195493 , 1.305232  )\n",
      " (397.27444458,  51.47715759, 232.01864642, -47.30350888, 403.84646814,  54.75388608, 232.35114834, -46.73269361, 319, 96, 0.39072971,  6.523331 , 0.07151937)]\n"
     ]
    }
   ],
   "source": [
    "# Fix the getting data from the fits file by code\n",
    "# table_correspondence = fits.open('corr_Images1.fits')\n",
    "# print(repr(table_correspondence[1].header))\n",
    "# print(table_correspondence[1].data)\n",
    "# table_xy = fits.open('axy.fits')\n",
    "table_correspondence = fits.open('corr.fits')\n",
    "# # table_reference = fits.open('rdls.fits')\n",
    "# # wcs = fits.open('wcs.fits')\n",
    "# print(\"table_xy: \")\n",
    "# print(repr(table_xy[1].header))\n",
    "# print(table_xy[1].data)\n",
    "print(\"table_correspondence: \")\n",
    "print(repr(table_correspondence[1].header))\n",
    "print(table_correspondence[1].data)\n",
    "# #print(repr(table_reference[1].header))\n",
    "# #print(repr(wcs[1].header))\n",
    "table_correspondence.close()"
   ]
  },
  {
   "cell_type": "code",
   "execution_count": 1,
   "metadata": {},
   "outputs": [
    {
     "ename": "NameError",
     "evalue": "name 'fits' is not defined",
     "output_type": "error",
     "traceback": [
      "\u001b[0;31m---------------------------------------------------------------------------\u001b[0m",
      "\u001b[0;31mNameError\u001b[0m                                 Traceback (most recent call last)",
      "\u001b[0;32m<ipython-input-1-1749999d354a>\u001b[0m in \u001b[0;36m<module>\u001b[0;34m\u001b[0m\n\u001b[0;32m----> 1\u001b[0;31m \u001b[0mtable_correspondence_img1\u001b[0m \u001b[0;34m=\u001b[0m \u001b[0mfits\u001b[0m\u001b[0;34m.\u001b[0m\u001b[0mopen\u001b[0m\u001b[0;34m(\u001b[0m\u001b[0;34m\"MYDatabase/img1_crt_corr.fits\"\u001b[0m\u001b[0;34m)\u001b[0m\u001b[0;34m\u001b[0m\u001b[0;34m\u001b[0m\u001b[0m\n\u001b[0m\u001b[1;32m      2\u001b[0m \u001b[0mheader\u001b[0m \u001b[0;34m=\u001b[0m \u001b[0mtable_correspondence_img1\u001b[0m\u001b[0;34m[\u001b[0m\u001b[0;36m1\u001b[0m\u001b[0;34m]\u001b[0m\u001b[0;34m.\u001b[0m\u001b[0mheader\u001b[0m\u001b[0;34m\u001b[0m\u001b[0;34m\u001b[0m\u001b[0m\n\u001b[1;32m      3\u001b[0m \u001b[0mdata\u001b[0m \u001b[0;34m=\u001b[0m \u001b[0mtable_correspondence_img1\u001b[0m\u001b[0;34m[\u001b[0m\u001b[0;36m1\u001b[0m\u001b[0;34m]\u001b[0m\u001b[0;34m.\u001b[0m\u001b[0mdata\u001b[0m\u001b[0;34m\u001b[0m\u001b[0;34m\u001b[0m\u001b[0m\n\u001b[1;32m      4\u001b[0m \u001b[0mtable_correspondence_img1\u001b[0m\u001b[0;34m.\u001b[0m\u001b[0mclose\u001b[0m\u001b[0;34m(\u001b[0m\u001b[0;34m)\u001b[0m\u001b[0;34m\u001b[0m\u001b[0;34m\u001b[0m\u001b[0m\n\u001b[1;32m      5\u001b[0m \u001b[0moutput_file\u001b[0m \u001b[0;34m=\u001b[0m \u001b[0mopen\u001b[0m\u001b[0;34m(\u001b[0m\u001b[0;34m'MYDatabase/star_database_img1_crt.txt'\u001b[0m\u001b[0;34m,\u001b[0m \u001b[0;34m'w'\u001b[0m\u001b[0;34m)\u001b[0m\u001b[0;34m\u001b[0m\u001b[0;34m\u001b[0m\u001b[0m\n",
      "\u001b[0;31mNameError\u001b[0m: name 'fits' is not defined"
     ]
    }
   ],
   "source": [
    "table_correspondence_img1 = fits.open(\"MYDatabase/img1_crt_corr.fits\")\n",
    "header = table_correspondence_img1[1].header\n",
    "data = table_correspondence_img1[1].data\n",
    "table_correspondence_img1.close()\n",
    "output_file = open('MYDatabase/star_database_img1_crt.txt', 'w')\n",
    "output_file.write(' '.join([header[f'TTYPE{i}'] for i in range(1, 14)]) + '\\n')\n",
    "output_file.write('\\n'.join(' '.join(str(cell) for cell in row) for row in data))\n",
    "output_file.close()\n",
    "table_correspondence_img2 = fits.open(\"MYDatabase/img2_dist_corr.fits\")\n",
    "header = table_correspondence_img2[1].header\n",
    "data = table_correspondence_img2[1].data\n",
    "table_correspondence_img2.close()\n",
    "output_file = open('MYDatabase/star_database_img2_dist.txt', 'w')\n",
    "output_file.write(' '.join([header[f'TTYPE{i}'] for i in range(1, 14)]) + '\\n')\n",
    "output_file.write('\\n'.join(' '.join(str(cell) for cell in row) for row in data))\n",
    "output_file.close()\n",
    "table_correspondence_img3 = fits.open(\"MYDatabase/img3_dist_corr.fits\")\n",
    "header = table_correspondence_img3[1].header\n",
    "data = table_correspondence_img3[1].data\n",
    "table_correspondence_img3.close()\n",
    "output_file = open('MYDatabase/star_database_img3_dist.txt', 'w')\n",
    "output_file.write(' '.join([header[f'TTYPE{i}'] for i in range(1, 14)]) + '\\n')\n",
    "output_file.write('\\n'.join(' '.join(str(cell) for cell in row) for row in data))\n",
    "output_file.close()\n"
   ]
  },
  {
   "cell_type": "code",
   "execution_count": 8,
   "metadata": {},
   "outputs": [],
   "source": [
    "dataframePD = pd.read_csv('MYDatabase/star_database_img1_crt.txt',delimiter=' ', header=0)"
   ]
  },
  {
   "cell_type": "code",
   "execution_count": 93,
   "metadata": {},
   "outputs": [],
   "source": [
    "dataframePD = pd.read_csv('MYDatabase/star_database_img2_dist.txt',delimiter=' ', header=0)"
   ]
  },
  {
   "cell_type": "code",
   "execution_count": 98,
   "metadata": {},
   "outputs": [],
   "source": [
    "dataframePD = pd.read_csv('MYDatabase/star_database_img3_dist.txt',delimiter=' ', header=0)"
   ]
  },
  {
   "cell_type": "code",
   "execution_count": 9,
   "metadata": {},
   "outputs": [
    {
     "name": "stdout",
     "output_type": "stream",
     "text": [
      "43\n",
      "[ 41.18966293 137.70622253 242.56620789 105.64694214 176.15768433\n",
      " 119.41149139 340.06756592 231.91021729 213.85238647 525.03753662\n",
      "  52.00957489 112.36466217 288.31262207  92.03533936 191.38623047\n",
      " 306.45462036 272.89541626 142.14857483  96.5618515  139.92488098\n",
      " 232.74310303  50.12671661 221.79116821  37.38206863 507.64492798\n",
      " 255.20802307 206.88456726  31.02151489 448.61984253 369.28570557\n",
      " 564.77905273 477.80682373 301.9770813  321.82611084 306.35482788\n",
      " 129.45089722 233.78887939 394.71411133 421.98629761 130.98834229\n",
      " 280.20965576  66.94104004 373.55780029]\n",
      "[ 41.18966293 137.70622253 242.56620789 105.64694214 176.15768433\n",
      " 119.41149139 340.06756592 231.91021729 213.85238647 525.03753662\n",
      "  52.00957489 112.36466217 288.31262207  92.03533936 191.38623047\n",
      " 306.45462036 272.89541626 142.14857483  96.5618515  139.92488098\n",
      " 232.74310303  50.12671661 221.79116821  37.38206863 507.64492798\n",
      " 255.20802307 206.88456726  31.02151489 448.61984253 369.28570557\n",
      " 564.77905273 477.80682373 301.9770813  321.82611084 306.35482788\n",
      " 129.45089722 233.78887939 394.71411133 421.98629761 130.98834229\n",
      " 280.20965576  66.94104004 373.55780029]\n",
      "[298.67672729 546.37139893 544.90722656 198.81105042 374.29367065\n",
      " 457.74859619 569.32684326 369.88079834 125.22366333 193.65338135\n",
      " 353.62731934  59.35654449 362.56893921 235.79148865 565.66503906\n",
      " 566.78961182 267.4291687  111.79186249 252.20413208 582.4520874\n",
      " 517.65161133 389.21929932 503.89663696 491.26367188 368.33624268\n",
      " 343.53042603 577.64813232 392.30700684 323.76269531 558.40875244\n",
      " 323.03115845 350.40713501 284.31326294 526.71582031 519.496521\n",
      " 267.52053833 317.87368774 313.70852661 203.55853271 219.46083069\n",
      " 203.15478516 232.91567993 217.58262634]\n",
      "[ 41.6750202  138.05181733 242.00931986 104.55336963 174.94577757\n",
      " 119.27269987 340.49549595 231.42652702 216.04235665 523.24417536\n",
      "  52.79235596 112.62278996 289.05070366  91.22670391 190.88883382\n",
      " 306.4166909  274.66724966 142.19224642  95.48197304 140.91291102\n",
      " 232.19358865  51.20639324 220.87720405  40.57292019 507.57780982\n",
      " 255.66635768 206.2518777   33.5631068  442.01615014 370.85778524\n",
      " 558.96190724 478.3349298  302.60980195 322.44784724 306.04867625\n",
      " 127.95300805 233.88305905 397.06587777 417.64401712 129.61612263\n",
      " 275.63979474  62.50918529 373.03461757]\n",
      "[298.91820606 545.98617397 546.08230856 199.40748411 374.91578705\n",
      " 458.02211536 569.53943673 370.18714493 124.42246749 194.27876738\n",
      " 353.4802649   59.56148478 361.37861969 236.29701716 566.32444895\n",
      " 567.81643527 265.9648847  111.4569187  253.01378601 581.9581841\n",
      " 518.70322497 388.47181486 505.25580392 489.2330891  375.12522784\n",
      " 343.60019734 578.18780642 391.41188446 326.96114705 558.01631869\n",
      " 317.349228   350.7864118  289.42200402 527.98248529 519.22581239\n",
      " 268.33691928 317.97996769 314.41078655 209.91194071 219.24137774\n",
      " 204.9072984  237.91339901 221.82433846]\n"
     ]
    }
   ],
   "source": [
    "x_coords = dataframePD['field_x'].values\n",
    "y_coords = dataframePD['field_y'].values\n",
    "x_ideal = dataframePD['index_x'].values\n",
    "y_ideal = dataframePD['index_y'].values\n",
    "total = len(x_coords)\n",
    "print(total)\n",
    "print(x_coords)\n",
    "print(x_coords)\n",
    "print(y_coords)\n",
    "print(x_ideal)\n",
    "print(y_ideal)"
   ]
  },
  {
   "cell_type": "code",
   "execution_count": 11,
   "metadata": {},
   "outputs": [],
   "source": [
    "# Focal_length is provided manually\n",
    "focal_length = 100"
   ]
  },
  {
   "cell_type": "code",
   "execution_count": 125,
   "metadata": {},
   "outputs": [
    {
     "name": "stdout",
     "output_type": "stream",
     "text": [
      "0    381.352814\n",
      "Name: field_x, dtype: float64\n",
      "0    131.249588\n",
      "Name: field_y, dtype: float64\n"
     ]
    }
   ],
   "source": [
    "offset_x = 0\n",
    "offset_y = 0\n",
    "x_mod = x_coords + offset_x\n",
    "y_mod = y_coords + offset_y\n",
    "print(x_mod)\n",
    "print(y_mod)"
   ]
  },
  {
   "cell_type": "code",
   "execution_count": 131,
   "metadata": {},
   "outputs": [
    {
     "name": "stdout",
     "output_type": "stream",
     "text": [
      "0    381.352814\n",
      "dtype: float64\n",
      "0    131.249588\n",
      "dtype: float64\n"
     ]
    }
   ],
   "source": [
    "k2 = 0\n",
    "k4 = 0\n",
    "k6 = 0\n",
    "r = pow((pow(x_mod, 2) + pow(y_mod, 2)),0.5)\n",
    "x_ideal_cal = x_mod * (1 + (k2 * pow(r, 2)) + (k4 * pow(r, 4)) + (k6 * pow(r, 6)))\n",
    "y_ideal_cal = y_mod * (1 + (k2 * pow(r, 2)) + (k4 * pow(r, 4)) + (k6 * pow(r, 6)))\n",
    "print(x_ideal_cal)\n",
    "print(y_ideal_cal)\n"
   ]
  },
  {
   "cell_type": "code",
   "execution_count": 128,
   "metadata": {},
   "outputs": [
    {
     "name": "stdout",
     "output_type": "stream",
     "text": [
      "0    381.416027\n",
      "dtype: float64\n",
      "0    131.450464\n",
      "dtype: float64\n",
      "0    0.0\n",
      "dtype: float64\n"
     ]
    },
    {
     "name": "stderr",
     "output_type": "stream",
     "text": [
      "/var/folders/_f/2vy5shl52_j0zy99d60mw55w0000gn/T/ipykernel_54896/1188313835.py:11: VisibleDeprecationWarning: Creating an ndarray from ragged nested sequences (which is a list-or-tuple of lists-or-tuples-or ndarrays with different lengths or shapes) is deprecated. If you meant to do this, you must specify 'dtype=object' when creating the ndarray.\n",
      "  initial_vector = np.array([x_ideal, y_ideal, focal_length])\n"
     ]
    }
   ],
   "source": [
    "kappa = 0\n",
    "phi = 0\n",
    "omega = 0\n",
    "\n",
    "rotation_matrix = np.array([[np.cos(kappa)*np.cos(phi) - np.sin(kappa)*np.sin(omega) + np.cos(kappa)*np.sin(phi)*np.sin(omega), \n",
    "                             np.sin(kappa)*np.cos(phi) + np.cos(kappa)*np.cos(omega)*np.sin(phi) - np.sin(kappa)*np.sin(phi)*np.sin(omega),\n",
    "                             -np.sin(phi)*np.cos(phi)*np.sin(omega) + np.cos(phi)*np.cos(omega)],\n",
    "                             [-np.sin(kappa)*np.cos(phi) - np.cos(kappa)*np.cos(omega)*np.sin(phi) + np.sin(kappa)*np.sin(phi)*np.sin(omega),\n",
    "                              np.cos(kappa)*np.cos(phi) + np.sin(kappa)*np.cos(omega) + np.cos(kappa)*np.sin(phi)*np.sin(omega), np.sin(phi)*np.cos(phi)*np.cos(omega) + np.sin(omega)*np.cos(phi)],\n",
    "                              [np.sin(phi)*np.cos(omega), -np.sin(phi)*np.sin(omega), np.cos(phi)]])\n",
    "initial_vector = np.array([x_ideal, y_ideal, focal_length])\n",
    "\n",
    "rotated_vector = rotation_matrix @ initial_vector\n",
    "\n",
    "x_ideal_rot = rotated_vector[0]\n",
    "print(x_ideal_rot)\n",
    "y_ideal_rot = rotated_vector[1]\n",
    "print(y_ideal_rot)\n",
    "focal_length_rot = rotated_vector[2]\n",
    "print(focal_length_rot)"
   ]
  },
  {
   "cell_type": "code",
   "execution_count": 130,
   "metadata": {},
   "outputs": [
    {
     "name": "stdout",
     "output_type": "stream",
     "text": [
      "0   NaN\n",
      "dtype: float64\n",
      "0   NaN\n",
      "dtype: float64\n"
     ]
    }
   ],
   "source": [
    "focal_length_mod = 0\n",
    "\n",
    "x_ideal_mod = x_ideal_rot * (focal_length_mod/focal_length_rot)\n",
    "y_ideal_mod = y_ideal_rot * (focal_length_mod/focal_length_rot)\n",
    "\n",
    "print(x_ideal_mod)\n",
    "print(y_ideal_mod)"
   ]
  },
  {
   "cell_type": "code",
   "execution_count": 132,
   "metadata": {},
   "outputs": [
    {
     "name": "stdout",
     "output_type": "stream",
     "text": [
      "0   NaN\n",
      "dtype: float64\n"
     ]
    }
   ],
   "source": [
    "error = pow(pow((x_ideal_cal - x_ideal_mod),2) + pow((y_ideal_cal - y_ideal_mod),2),0.5)\n",
    "print(error)"
   ]
  },
  {
   "cell_type": "code",
   "execution_count": 12,
   "metadata": {},
   "outputs": [
    {
     "name": "stdout",
     "output_type": "stream",
     "text": [
      "[0.9999904  0.99998379 0.01       0.001      0.001      0.00100622\n",
      " 0.001      0.001      0.001     ]\n"
     ]
    }
   ],
   "source": [
    "off_x = 1\n",
    "off_y = 1\n",
    "mod_fl = 0.01 \n",
    "k_2 = 0.001\n",
    "k_4 = 0.001\n",
    "k_6 = 0.001\n",
    "delta_phi = 0.001\n",
    "delta_omega = 0.001\n",
    "delta_kappa = 0.001\n",
    "\n",
    "initial_parameters = [off_x, off_y, mod_fl, k_2, k_4, k_6, delta_phi, delta_omega, delta_kappa]\n",
    "\n",
    "optimized_params =[]\n",
    "for i in range(total):\n",
    "    result = minimize(objective, initial_parameters, args=(x_coords[i], y_coords[i], x_ideal[i], y_ideal[i], focal_length), \n",
    "    method='L-BFGS-B')\n",
    "    optimized_params.append(result.x)\n",
    "\n",
    "mean_optimized_params = np.mean(optimized_params, axis=0)\n",
    "#mean_optimized_params = np.array(optimized_params)[np.argmax(np.abs(np.array(optimized_params) - np.array(initial_parameters)), axis=0), np.arange(len(initial_parameters))]\n",
    "print(mean_optimized_params)\n"
   ]
  },
  {
   "cell_type": "code",
   "execution_count": 13,
   "metadata": {},
   "outputs": [
    {
     "name": "stdout",
     "output_type": "stream",
     "text": [
      "offset_x: 0.999990400\n",
      "offset_y: 0.999983787\n",
      "modified_focal_length: 0.010000000\n",
      "lens_distortion (k2): 0.001000000\n",
      "lens_distortion (k4): 0.001000000\n",
      "lens_distortion (k6): 0.001006219\n",
      "rotation_roll: 0.001000000\n",
      "rotation_pitch: 0.001000000\n",
      "rotation_yaw: 0.001000000\n"
     ]
    }
   ],
   "source": [
    "formatted_values = [f\"{value:.9f}\" for value in mean_optimized_params]\n",
    "\n",
    "print(\"offset_x:\", formatted_values[0])\n",
    "print(\"offset_y:\", formatted_values[1])\n",
    "print(\"modified_focal_length:\", formatted_values[2])\n",
    "print(\"lens_distortion (k2):\", formatted_values[3])\n",
    "print(\"lens_distortion (k4):\", formatted_values[4])\n",
    "print(\"lens_distortion (k6):\", formatted_values[5])\n",
    "print(\"rotation_roll:\", formatted_values[6])\n",
    "print(\"rotation_pitch:\", formatted_values[7])\n",
    "print(\"rotation_yaw:\", formatted_values[8])"
   ]
  },
  {
   "cell_type": "code",
   "execution_count": 97,
   "metadata": {},
   "outputs": [
    {
     "name": "stdout",
     "output_type": "stream",
     "text": [
      "offset_x: 0.999245029\n",
      "offset_y: 0.999521480\n",
      "modified_focal_length: 0.010000000\n",
      "lens_distortion (k2): 0.001000004\n",
      "lens_distortion (k4): 0.001440468\n",
      "lens_distortion (k6): -0.000000160\n",
      "rotation_roll: 0.001000000\n",
      "rotation_pitch: 0.001000000\n",
      "rotation_yaw: 0.001000000\n"
     ]
    }
   ],
   "source": [
    "formatted_values = [f\"{value:.9f}\" for value in mean_optimized_params]\n",
    "print(\"offset_x:\", formatted_values[0])\n",
    "print(\"offset_y:\", formatted_values[1])\n",
    "print(\"modified_focal_length:\", formatted_values[2])\n",
    "print(\"lens_distortion (k2):\", formatted_values[3])\n",
    "print(\"lens_distortion (k4):\", formatted_values[4])\n",
    "print(\"lens_distortion (k6):\", formatted_values[5])\n",
    "print(\"rotation_roll:\", formatted_values[6])\n",
    "print(\"rotation_pitch:\", formatted_values[7])\n",
    "print(\"rotation_yaw:\", formatted_values[8])"
   ]
  },
  {
   "cell_type": "code",
   "execution_count": 102,
   "metadata": {},
   "outputs": [
    {
     "name": "stdout",
     "output_type": "stream",
     "text": [
      "offset_x: 0.999520370\n",
      "offset_y: 0.999362714\n",
      "modified_focal_length: 0.010000000\n",
      "lens_distortion (k2): 0.001000002\n",
      "lens_distortion (k4): 0.001375306\n",
      "lens_distortion (k6): -0.000000035\n",
      "rotation_roll: 0.001000000\n",
      "rotation_pitch: 0.001000000\n",
      "rotation_yaw: 0.001000000\n"
     ]
    }
   ],
   "source": [
    "formatted_values = [f\"{value:.9f}\" for value in mean_optimized_params]\n",
    "print(\"offset_x:\", formatted_values[0])\n",
    "print(\"offset_y:\", formatted_values[1])\n",
    "print(\"modified_focal_length:\", formatted_values[2])\n",
    "print(\"lens_distortion (k2):\", formatted_values[3])\n",
    "print(\"lens_distortion (k4):\", formatted_values[4])\n",
    "print(\"lens_distortion (k6):\", formatted_values[5])\n",
    "print(\"rotation_roll:\", formatted_values[6])\n",
    "print(\"rotation_pitch:\", formatted_values[7])\n",
    "print(\"rotation_yaw:\", formatted_values[8])"
   ]
  },
  {
   "attachments": {},
   "cell_type": "markdown",
   "metadata": {},
   "source": [
    "<!-- ### Ideal camera model coordinates (x_act, y_act) (These is your reference images, the correct one)\n",
    "First, starnames and the corresponding star coorindates (J2000) in each image are identified using Astrometry.net software. The star coordinates are transformed into image pixel coordinates using an ideal camera model and these resulting modeled pixel coordinates are referred to as (x_act, y_act).\n",
    "\n",
    "### Star centroid coordinates (x_img, y_img) (These is your real images, the wrong one)\n",
    "Next, the centroids of all stars in each image are found using various techniques, and this resulting set of pixel coordinates is referred to collectively as (x_img, y_img). \n",
    "\n",
    "xdiff = x_img - x_act\n",
    "\n",
    "ydiff = y_img - y_act\n",
    "\n",
    "mag = np.sqrt((x_img-x_act)**2+(y_img-y_act)**2) -->\n"
   ]
  }
 ],
 "metadata": {
  "kernelspec": {
   "display_name": "Python 3",
   "language": "python",
   "name": "python3"
  },
  "language_info": {
   "codemirror_mode": {
    "name": "ipython",
    "version": 3
   },
   "file_extension": ".py",
   "mimetype": "text/x-python",
   "name": "python",
   "nbconvert_exporter": "python",
   "pygments_lexer": "ipython3",
   "version": "3.8.8"
  },
  "orig_nbformat": 4
 },
 "nbformat": 4,
 "nbformat_minor": 2
}
